{
 "cells": [
  {
   "cell_type": "code",
   "execution_count": 1,
   "id": "383e118d-153b-4f59-a499-6cc28fce81ac",
   "metadata": {},
   "outputs": [
    {
     "name": "stderr",
     "output_type": "stream",
     "text": [
      "2024-05-31 15:41:35.989815: I tensorflow/core/util/port.cc:113] oneDNN custom operations are on. You may see slightly different numerical results due to floating-point round-off errors from different computation orders. To turn them off, set the environment variable `TF_ENABLE_ONEDNN_OPTS=0`.\n",
      "2024-05-31 15:41:35.990855: I external/local_tsl/tsl/cuda/cudart_stub.cc:32] Could not find cuda drivers on your machine, GPU will not be used.\n",
      "2024-05-31 15:41:36.034105: I external/local_tsl/tsl/cuda/cudart_stub.cc:32] Could not find cuda drivers on your machine, GPU will not be used.\n",
      "2024-05-31 15:41:36.213640: I tensorflow/core/platform/cpu_feature_guard.cc:210] This TensorFlow binary is optimized to use available CPU instructions in performance-critical operations.\n",
      "To enable the following instructions: AVX2 AVX512F AVX512_VNNI FMA, in other operations, rebuild TensorFlow with the appropriate compiler flags.\n",
      "2024-05-31 15:41:37.022847: W tensorflow/compiler/tf2tensorrt/utils/py_utils.cc:38] TF-TRT Warning: Could not find TensorRT\n"
     ]
    }
   ],
   "source": [
    "import pandas as pd\n",
    "import numpy as np\n",
    "from sklearn.model_selection import train_test_split\n",
    "from sklearn.preprocessing import StandardScaler\n",
    "from tensorflow.keras.models import Sequential\n",
    "from tensorflow.keras.layers import LSTM, Dense, Input, Dropout"
   ]
  },
  {
   "cell_type": "code",
   "execution_count": 2,
   "id": "981dca64-3fd8-4d2f-9b17-9243bda9f6e0",
   "metadata": {},
   "outputs": [
    {
     "data": {
      "text/html": [
       "<div>\n",
       "<style scoped>\n",
       "    .dataframe tbody tr th:only-of-type {\n",
       "        vertical-align: middle;\n",
       "    }\n",
       "\n",
       "    .dataframe tbody tr th {\n",
       "        vertical-align: top;\n",
       "    }\n",
       "\n",
       "    .dataframe thead th {\n",
       "        text-align: right;\n",
       "    }\n",
       "</style>\n",
       "<table border=\"1\" class=\"dataframe\">\n",
       "  <thead>\n",
       "    <tr style=\"text-align: right;\">\n",
       "      <th></th>\n",
       "      <th>station_id</th>\n",
       "      <th>station_name</th>\n",
       "      <th>timestamp</th>\n",
       "      <th>year</th>\n",
       "      <th>month</th>\n",
       "      <th>day</th>\n",
       "      <th>station_eovx</th>\n",
       "      <th>station_eovy</th>\n",
       "      <th>Levegőhőmérséklet</th>\n",
       "      <th>Relatív páratartalom</th>\n",
       "      <th>Talajhőmérséklet</th>\n",
       "      <th>Talajnedvesség</th>\n",
       "    </tr>\n",
       "  </thead>\n",
       "  <tbody>\n",
       "    <tr>\n",
       "      <th>0</th>\n",
       "      <td>07F16A43-6FBA-4A77-A22A-BFE79D336204</td>\n",
       "      <td>Ádánd</td>\n",
       "      <td>2021-02-04 11:00:00</td>\n",
       "      <td>2021</td>\n",
       "      <td>2</td>\n",
       "      <td>4</td>\n",
       "      <td>170073.000000</td>\n",
       "      <td>584904.000000</td>\n",
       "      <td>8.973913043478264</td>\n",
       "      <td>77.78260869565217</td>\n",
       "      <td>5.765217391304349</td>\n",
       "      <td>33.6</td>\n",
       "    </tr>\n",
       "    <tr>\n",
       "      <th>1</th>\n",
       "      <td>07F16A43-6FBA-4A77-A22A-BFE79D336204</td>\n",
       "      <td>Ádánd</td>\n",
       "      <td>2021-02-05 11:00:00</td>\n",
       "      <td>2021</td>\n",
       "      <td>2</td>\n",
       "      <td>5</td>\n",
       "      <td>170073.000000</td>\n",
       "      <td>584904.000000</td>\n",
       "      <td>6.920833333333334</td>\n",
       "      <td>88.20833333333333</td>\n",
       "      <td>5.704166666666666</td>\n",
       "      <td>36.51666666666666</td>\n",
       "    </tr>\n",
       "    <tr>\n",
       "      <th>2</th>\n",
       "      <td>07F16A43-6FBA-4A77-A22A-BFE79D336204</td>\n",
       "      <td>Ádánd</td>\n",
       "      <td>2021-02-06 11:00:00</td>\n",
       "      <td>2021</td>\n",
       "      <td>2</td>\n",
       "      <td>6</td>\n",
       "      <td>170073.000000</td>\n",
       "      <td>584904.000000</td>\n",
       "      <td>5.629166666666666</td>\n",
       "      <td>100.0</td>\n",
       "      <td>5.912500000000001</td>\n",
       "      <td>32.30416666666667</td>\n",
       "    </tr>\n",
       "    <tr>\n",
       "      <th>3</th>\n",
       "      <td>07F16A43-6FBA-4A77-A22A-BFE79D336204</td>\n",
       "      <td>Ádánd</td>\n",
       "      <td>2021-02-07 11:00:00</td>\n",
       "      <td>2021</td>\n",
       "      <td>2</td>\n",
       "      <td>7</td>\n",
       "      <td>170073.000000</td>\n",
       "      <td>584904.000000</td>\n",
       "      <td>2.8499999999999996</td>\n",
       "      <td>99.95454545454545</td>\n",
       "      <td>5.1909090909090905</td>\n",
       "      <td>35.540909090909096</td>\n",
       "    </tr>\n",
       "    <tr>\n",
       "      <th>4</th>\n",
       "      <td>07F16A43-6FBA-4A77-A22A-BFE79D336204</td>\n",
       "      <td>Ádánd</td>\n",
       "      <td>2021-02-08 11:00:00</td>\n",
       "      <td>2021</td>\n",
       "      <td>2</td>\n",
       "      <td>8</td>\n",
       "      <td>170073.000000</td>\n",
       "      <td>584904.000000</td>\n",
       "      <td>3.433333333333333</td>\n",
       "      <td>93.625</td>\n",
       "      <td>4.845833333333334</td>\n",
       "      <td>33.691666666666656</td>\n",
       "    </tr>\n",
       "  </tbody>\n",
       "</table>\n",
       "</div>"
      ],
      "text/plain": [
       "                             station_id station_name            timestamp  \\\n",
       "0  07F16A43-6FBA-4A77-A22A-BFE79D336204        Ádánd  2021-02-04 11:00:00   \n",
       "1  07F16A43-6FBA-4A77-A22A-BFE79D336204        Ádánd  2021-02-05 11:00:00   \n",
       "2  07F16A43-6FBA-4A77-A22A-BFE79D336204        Ádánd  2021-02-06 11:00:00   \n",
       "3  07F16A43-6FBA-4A77-A22A-BFE79D336204        Ádánd  2021-02-07 11:00:00   \n",
       "4  07F16A43-6FBA-4A77-A22A-BFE79D336204        Ádánd  2021-02-08 11:00:00   \n",
       "\n",
       "   year  month  day   station_eovx   station_eovy   Levegőhőmérséklet  \\\n",
       "0  2021      2    4  170073.000000  584904.000000   8.973913043478264   \n",
       "1  2021      2    5  170073.000000  584904.000000   6.920833333333334   \n",
       "2  2021      2    6  170073.000000  584904.000000   5.629166666666666   \n",
       "3  2021      2    7  170073.000000  584904.000000  2.8499999999999996   \n",
       "4  2021      2    8  170073.000000  584904.000000   3.433333333333333   \n",
       "\n",
       "  Relatív páratartalom    Talajhőmérséklet      Talajnedvesség  \n",
       "0    77.78260869565217   5.765217391304349                33.6  \n",
       "1    88.20833333333333   5.704166666666666   36.51666666666666  \n",
       "2                100.0   5.912500000000001   32.30416666666667  \n",
       "3    99.95454545454545  5.1909090909090905  35.540909090909096  \n",
       "4               93.625   4.845833333333334  33.691666666666656  "
      ]
     },
     "execution_count": 2,
     "metadata": {},
     "output_type": "execute_result"
    }
   ],
   "source": [
    "\n",
    "df = pd.read_csv('pivoted_Ádánd_2024_5_30.csv',decimal=',')\n",
    "df.head()"
   ]
  },
  {
   "cell_type": "code",
   "execution_count": 3,
   "id": "8de6790e-1082-4fba-93af-a05a441122d3",
   "metadata": {},
   "outputs": [
    {
     "data": {
      "text/html": [
       "<div>\n",
       "<style scoped>\n",
       "    .dataframe tbody tr th:only-of-type {\n",
       "        vertical-align: middle;\n",
       "    }\n",
       "\n",
       "    .dataframe tbody tr th {\n",
       "        vertical-align: top;\n",
       "    }\n",
       "\n",
       "    .dataframe thead th {\n",
       "        text-align: right;\n",
       "    }\n",
       "</style>\n",
       "<table border=\"1\" class=\"dataframe\">\n",
       "  <thead>\n",
       "    <tr style=\"text-align: right;\">\n",
       "      <th></th>\n",
       "      <th>timestamp</th>\n",
       "      <th>Levegőhőmérséklet</th>\n",
       "      <th>Relatív páratartalom</th>\n",
       "      <th>Talajhőmérséklet</th>\n",
       "      <th>Talajnedvesség</th>\n",
       "    </tr>\n",
       "  </thead>\n",
       "  <tbody>\n",
       "    <tr>\n",
       "      <th>0</th>\n",
       "      <td>2021-02-04 11:00:00</td>\n",
       "      <td>8.973913043478264</td>\n",
       "      <td>77.78260869565217</td>\n",
       "      <td>5.765217391304349</td>\n",
       "      <td>33.6</td>\n",
       "    </tr>\n",
       "    <tr>\n",
       "      <th>1</th>\n",
       "      <td>2021-02-05 11:00:00</td>\n",
       "      <td>6.920833333333334</td>\n",
       "      <td>88.20833333333333</td>\n",
       "      <td>5.704166666666666</td>\n",
       "      <td>36.51666666666666</td>\n",
       "    </tr>\n",
       "    <tr>\n",
       "      <th>2</th>\n",
       "      <td>2021-02-06 11:00:00</td>\n",
       "      <td>5.629166666666666</td>\n",
       "      <td>100.0</td>\n",
       "      <td>5.912500000000001</td>\n",
       "      <td>32.30416666666667</td>\n",
       "    </tr>\n",
       "    <tr>\n",
       "      <th>3</th>\n",
       "      <td>2021-02-07 11:00:00</td>\n",
       "      <td>2.8499999999999996</td>\n",
       "      <td>99.95454545454545</td>\n",
       "      <td>5.1909090909090905</td>\n",
       "      <td>35.540909090909096</td>\n",
       "    </tr>\n",
       "    <tr>\n",
       "      <th>4</th>\n",
       "      <td>2021-02-08 11:00:00</td>\n",
       "      <td>3.433333333333333</td>\n",
       "      <td>93.625</td>\n",
       "      <td>4.845833333333334</td>\n",
       "      <td>33.691666666666656</td>\n",
       "    </tr>\n",
       "  </tbody>\n",
       "</table>\n",
       "</div>"
      ],
      "text/plain": [
       "             timestamp   Levegőhőmérséklet Relatív páratartalom  \\\n",
       "0  2021-02-04 11:00:00   8.973913043478264    77.78260869565217   \n",
       "1  2021-02-05 11:00:00   6.920833333333334    88.20833333333333   \n",
       "2  2021-02-06 11:00:00   5.629166666666666                100.0   \n",
       "3  2021-02-07 11:00:00  2.8499999999999996    99.95454545454545   \n",
       "4  2021-02-08 11:00:00   3.433333333333333               93.625   \n",
       "\n",
       "     Talajhőmérséklet      Talajnedvesség  \n",
       "0   5.765217391304349                33.6  \n",
       "1   5.704166666666666   36.51666666666666  \n",
       "2   5.912500000000001   32.30416666666667  \n",
       "3  5.1909090909090905  35.540909090909096  \n",
       "4   4.845833333333334  33.691666666666656  "
      ]
     },
     "execution_count": 3,
     "metadata": {},
     "output_type": "execute_result"
    }
   ],
   "source": [
    "df=df[['timestamp','Levegőhőmérséklet','Relatív páratartalom','Talajhőmérséklet','Talajnedvesség']]\n",
    "df.head()"
   ]
  },
  {
   "cell_type": "code",
   "execution_count": 4,
   "id": "321423f7-a5de-4c5b-a6cb-c064629fc810",
   "metadata": {},
   "outputs": [
    {
     "data": {
      "text/html": [
       "<div>\n",
       "<style scoped>\n",
       "    .dataframe tbody tr th:only-of-type {\n",
       "        vertical-align: middle;\n",
       "    }\n",
       "\n",
       "    .dataframe tbody tr th {\n",
       "        vertical-align: top;\n",
       "    }\n",
       "\n",
       "    .dataframe thead th {\n",
       "        text-align: right;\n",
       "    }\n",
       "</style>\n",
       "<table border=\"1\" class=\"dataframe\">\n",
       "  <thead>\n",
       "    <tr style=\"text-align: right;\">\n",
       "      <th></th>\n",
       "      <th>timestamp</th>\n",
       "      <th>air_temperature</th>\n",
       "      <th>relative_humidity</th>\n",
       "      <th>soil_temperature</th>\n",
       "      <th>soil_moisture</th>\n",
       "    </tr>\n",
       "  </thead>\n",
       "  <tbody>\n",
       "    <tr>\n",
       "      <th>0</th>\n",
       "      <td>2021-02-04 11:00:00</td>\n",
       "      <td>8.973913043478264</td>\n",
       "      <td>77.78260869565217</td>\n",
       "      <td>5.765217391304349</td>\n",
       "      <td>33.6</td>\n",
       "    </tr>\n",
       "    <tr>\n",
       "      <th>1</th>\n",
       "      <td>2021-02-05 11:00:00</td>\n",
       "      <td>6.920833333333334</td>\n",
       "      <td>88.20833333333333</td>\n",
       "      <td>5.704166666666666</td>\n",
       "      <td>36.51666666666666</td>\n",
       "    </tr>\n",
       "    <tr>\n",
       "      <th>2</th>\n",
       "      <td>2021-02-06 11:00:00</td>\n",
       "      <td>5.629166666666666</td>\n",
       "      <td>100.0</td>\n",
       "      <td>5.912500000000001</td>\n",
       "      <td>32.30416666666667</td>\n",
       "    </tr>\n",
       "    <tr>\n",
       "      <th>3</th>\n",
       "      <td>2021-02-07 11:00:00</td>\n",
       "      <td>2.8499999999999996</td>\n",
       "      <td>99.95454545454545</td>\n",
       "      <td>5.1909090909090905</td>\n",
       "      <td>35.540909090909096</td>\n",
       "    </tr>\n",
       "    <tr>\n",
       "      <th>4</th>\n",
       "      <td>2021-02-08 11:00:00</td>\n",
       "      <td>3.433333333333333</td>\n",
       "      <td>93.625</td>\n",
       "      <td>4.845833333333334</td>\n",
       "      <td>33.691666666666656</td>\n",
       "    </tr>\n",
       "  </tbody>\n",
       "</table>\n",
       "</div>"
      ],
      "text/plain": [
       "             timestamp     air_temperature  relative_humidity  \\\n",
       "0  2021-02-04 11:00:00   8.973913043478264  77.78260869565217   \n",
       "1  2021-02-05 11:00:00   6.920833333333334  88.20833333333333   \n",
       "2  2021-02-06 11:00:00   5.629166666666666              100.0   \n",
       "3  2021-02-07 11:00:00  2.8499999999999996  99.95454545454545   \n",
       "4  2021-02-08 11:00:00   3.433333333333333             93.625   \n",
       "\n",
       "     soil_temperature       soil_moisture  \n",
       "0   5.765217391304349                33.6  \n",
       "1   5.704166666666666   36.51666666666666  \n",
       "2   5.912500000000001   32.30416666666667  \n",
       "3  5.1909090909090905  35.540909090909096  \n",
       "4   4.845833333333334  33.691666666666656  "
      ]
     },
     "execution_count": 4,
     "metadata": {},
     "output_type": "execute_result"
    }
   ],
   "source": [
    "df.rename(columns={\n",
    "    'Levegőhőmérséklet': 'air_temperature',\n",
    "    'Relatív páratartalom': 'relative_humidity',\n",
    "    'Talajhőmérséklet': 'soil_temperature',\n",
    "    'Talajnedvesség': 'soil_moisture'\n",
    "}, inplace=True)\n",
    "df.head()"
   ]
  },
  {
   "cell_type": "code",
   "execution_count": 5,
   "id": "63ce2977-5bd8-4521-869f-f3d0ee319211",
   "metadata": {},
   "outputs": [
    {
     "name": "stdout",
     "output_type": "stream",
     "text": [
      "1212\n",
      "1145\n"
     ]
    }
   ],
   "source": [
    "print(len(df))\n",
    "df.dropna(inplace=True)\n",
    "print(len(df))"
   ]
  },
  {
   "cell_type": "code",
   "execution_count": 6,
   "id": "025be607-4d08-4b0b-9e21-5e8ef2e5c3c4",
   "metadata": {},
   "outputs": [
    {
     "name": "stdout",
     "output_type": "stream",
     "text": [
      "timestamp            object\n",
      "air_temperature      object\n",
      "relative_humidity    object\n",
      "soil_temperature     object\n",
      "soil_moisture        object\n",
      "dtype: object\n"
     ]
    }
   ],
   "source": [
    "print(df.dtypes)"
   ]
  },
  {
   "cell_type": "code",
   "execution_count": 7,
   "id": "ecabf982-70c7-4079-acfd-7fcbd27b103e",
   "metadata": {},
   "outputs": [
    {
     "name": "stdout",
     "output_type": "stream",
     "text": [
      "timestamp            datetime64[ns]\n",
      "air_temperature             float64\n",
      "relative_humidity           float64\n",
      "soil_temperature            float64\n",
      "soil_moisture               float64\n",
      "dtype: object\n"
     ]
    }
   ],
   "source": [
    "df['air_temperature'] = pd.to_numeric(df['air_temperature'])\n",
    "df['relative_humidity'] = pd.to_numeric(df['relative_humidity'])\n",
    "df['soil_temperature'] = pd.to_numeric(df['soil_temperature'])\n",
    "df['soil_moisture'] = pd.to_numeric(df['soil_moisture'])\n",
    "df['timestamp'] = pd.to_datetime(df['timestamp'])\n",
    "print(df.dtypes)"
   ]
  },
  {
   "cell_type": "code",
   "execution_count": 8,
   "id": "70f98449-2ff7-4360-acb5-8afd9c1762e4",
   "metadata": {},
   "outputs": [
    {
     "data": {
      "text/html": [
       "<div>\n",
       "<style scoped>\n",
       "    .dataframe tbody tr th:only-of-type {\n",
       "        vertical-align: middle;\n",
       "    }\n",
       "\n",
       "    .dataframe tbody tr th {\n",
       "        vertical-align: top;\n",
       "    }\n",
       "\n",
       "    .dataframe thead th {\n",
       "        text-align: right;\n",
       "    }\n",
       "</style>\n",
       "<table border=\"1\" class=\"dataframe\">\n",
       "  <thead>\n",
       "    <tr style=\"text-align: right;\">\n",
       "      <th></th>\n",
       "      <th>timestamp</th>\n",
       "      <th>air_temperature</th>\n",
       "      <th>relative_humidity</th>\n",
       "      <th>soil_temperature</th>\n",
       "      <th>soil_moisture</th>\n",
       "    </tr>\n",
       "  </thead>\n",
       "  <tbody>\n",
       "    <tr>\n",
       "      <th>0</th>\n",
       "      <td>2021-02-04 11:00:00</td>\n",
       "      <td>8.973913</td>\n",
       "      <td>77.782609</td>\n",
       "      <td>5.765217</td>\n",
       "      <td>33.600000</td>\n",
       "    </tr>\n",
       "    <tr>\n",
       "      <th>1</th>\n",
       "      <td>2021-02-05 11:00:00</td>\n",
       "      <td>6.920833</td>\n",
       "      <td>88.208333</td>\n",
       "      <td>5.704167</td>\n",
       "      <td>36.516667</td>\n",
       "    </tr>\n",
       "    <tr>\n",
       "      <th>2</th>\n",
       "      <td>2021-02-06 11:00:00</td>\n",
       "      <td>5.629167</td>\n",
       "      <td>100.000000</td>\n",
       "      <td>5.912500</td>\n",
       "      <td>32.304167</td>\n",
       "    </tr>\n",
       "    <tr>\n",
       "      <th>3</th>\n",
       "      <td>2021-02-07 11:00:00</td>\n",
       "      <td>2.850000</td>\n",
       "      <td>99.954545</td>\n",
       "      <td>5.190909</td>\n",
       "      <td>35.540909</td>\n",
       "    </tr>\n",
       "    <tr>\n",
       "      <th>4</th>\n",
       "      <td>2021-02-08 11:00:00</td>\n",
       "      <td>3.433333</td>\n",
       "      <td>93.625000</td>\n",
       "      <td>4.845833</td>\n",
       "      <td>33.691667</td>\n",
       "    </tr>\n",
       "  </tbody>\n",
       "</table>\n",
       "</div>"
      ],
      "text/plain": [
       "            timestamp  air_temperature  relative_humidity  soil_temperature  \\\n",
       "0 2021-02-04 11:00:00         8.973913          77.782609          5.765217   \n",
       "1 2021-02-05 11:00:00         6.920833          88.208333          5.704167   \n",
       "2 2021-02-06 11:00:00         5.629167         100.000000          5.912500   \n",
       "3 2021-02-07 11:00:00         2.850000          99.954545          5.190909   \n",
       "4 2021-02-08 11:00:00         3.433333          93.625000          4.845833   \n",
       "\n",
       "   soil_moisture  \n",
       "0      33.600000  \n",
       "1      36.516667  \n",
       "2      32.304167  \n",
       "3      35.540909  \n",
       "4      33.691667  "
      ]
     },
     "execution_count": 8,
     "metadata": {},
     "output_type": "execute_result"
    }
   ],
   "source": [
    "df.head()"
   ]
  },
  {
   "cell_type": "code",
   "execution_count": 9,
   "id": "2342c632-3c10-4ea2-933a-2606eb3d368c",
   "metadata": {},
   "outputs": [
    {
     "data": {
      "text/html": [
       "<div>\n",
       "<style scoped>\n",
       "    .dataframe tbody tr th:only-of-type {\n",
       "        vertical-align: middle;\n",
       "    }\n",
       "\n",
       "    .dataframe tbody tr th {\n",
       "        vertical-align: top;\n",
       "    }\n",
       "\n",
       "    .dataframe thead th {\n",
       "        text-align: right;\n",
       "    }\n",
       "</style>\n",
       "<table border=\"1\" class=\"dataframe\">\n",
       "  <thead>\n",
       "    <tr style=\"text-align: right;\">\n",
       "      <th></th>\n",
       "      <th>timestamp</th>\n",
       "      <th>air_temperature</th>\n",
       "      <th>relative_humidity</th>\n",
       "      <th>soil_temperature</th>\n",
       "      <th>soil_moisture</th>\n",
       "      <th>next_air_temperature</th>\n",
       "      <th>next_relative_humidity</th>\n",
       "      <th>next_soil_temperature</th>\n",
       "      <th>next_soil_moisture</th>\n",
       "    </tr>\n",
       "  </thead>\n",
       "  <tbody>\n",
       "    <tr>\n",
       "      <th>0</th>\n",
       "      <td>2021-02-04 11:00:00</td>\n",
       "      <td>8.973913</td>\n",
       "      <td>77.782609</td>\n",
       "      <td>5.765217</td>\n",
       "      <td>33.600000</td>\n",
       "      <td>6.920833</td>\n",
       "      <td>88.208333</td>\n",
       "      <td>5.704167</td>\n",
       "      <td>36.516667</td>\n",
       "    </tr>\n",
       "    <tr>\n",
       "      <th>1</th>\n",
       "      <td>2021-02-05 11:00:00</td>\n",
       "      <td>6.920833</td>\n",
       "      <td>88.208333</td>\n",
       "      <td>5.704167</td>\n",
       "      <td>36.516667</td>\n",
       "      <td>5.629167</td>\n",
       "      <td>100.000000</td>\n",
       "      <td>5.912500</td>\n",
       "      <td>32.304167</td>\n",
       "    </tr>\n",
       "    <tr>\n",
       "      <th>2</th>\n",
       "      <td>2021-02-06 11:00:00</td>\n",
       "      <td>5.629167</td>\n",
       "      <td>100.000000</td>\n",
       "      <td>5.912500</td>\n",
       "      <td>32.304167</td>\n",
       "      <td>2.850000</td>\n",
       "      <td>99.954545</td>\n",
       "      <td>5.190909</td>\n",
       "      <td>35.540909</td>\n",
       "    </tr>\n",
       "    <tr>\n",
       "      <th>3</th>\n",
       "      <td>2021-02-07 11:00:00</td>\n",
       "      <td>2.850000</td>\n",
       "      <td>99.954545</td>\n",
       "      <td>5.190909</td>\n",
       "      <td>35.540909</td>\n",
       "      <td>3.433333</td>\n",
       "      <td>93.625000</td>\n",
       "      <td>4.845833</td>\n",
       "      <td>33.691667</td>\n",
       "    </tr>\n",
       "    <tr>\n",
       "      <th>4</th>\n",
       "      <td>2021-02-08 11:00:00</td>\n",
       "      <td>3.433333</td>\n",
       "      <td>93.625000</td>\n",
       "      <td>4.845833</td>\n",
       "      <td>33.691667</td>\n",
       "      <td>2.208696</td>\n",
       "      <td>99.173913</td>\n",
       "      <td>3.926087</td>\n",
       "      <td>37.817391</td>\n",
       "    </tr>\n",
       "  </tbody>\n",
       "</table>\n",
       "</div>"
      ],
      "text/plain": [
       "            timestamp  air_temperature  relative_humidity  soil_temperature  \\\n",
       "0 2021-02-04 11:00:00         8.973913          77.782609          5.765217   \n",
       "1 2021-02-05 11:00:00         6.920833          88.208333          5.704167   \n",
       "2 2021-02-06 11:00:00         5.629167         100.000000          5.912500   \n",
       "3 2021-02-07 11:00:00         2.850000          99.954545          5.190909   \n",
       "4 2021-02-08 11:00:00         3.433333          93.625000          4.845833   \n",
       "\n",
       "   soil_moisture  next_air_temperature  next_relative_humidity  \\\n",
       "0      33.600000              6.920833               88.208333   \n",
       "1      36.516667              5.629167              100.000000   \n",
       "2      32.304167              2.850000               99.954545   \n",
       "3      35.540909              3.433333               93.625000   \n",
       "4      33.691667              2.208696               99.173913   \n",
       "\n",
       "   next_soil_temperature  next_soil_moisture  \n",
       "0               5.704167           36.516667  \n",
       "1               5.912500           32.304167  \n",
       "2               5.190909           35.540909  \n",
       "3               4.845833           33.691667  \n",
       "4               3.926087           37.817391  "
      ]
     },
     "execution_count": 9,
     "metadata": {},
     "output_type": "execute_result"
    }
   ],
   "source": [
    "df['next_air_temperature'] = df['air_temperature'].shift(-1)\n",
    "df['next_relative_humidity'] = df['relative_humidity'].shift(-1)\n",
    "df['next_soil_temperature'] = df['soil_temperature'].shift(-1)\n",
    "df['next_soil_moisture'] = df['soil_moisture'].shift(-1)\n",
    "df = df.dropna()\n",
    "df.head()"
   ]
  },
  {
   "cell_type": "code",
   "execution_count": 10,
   "id": "51a8e7da-0555-4dd2-83a9-d925a8abd6d4",
   "metadata": {},
   "outputs": [],
   "source": [
    "X = df[['air_temperature', 'relative_humidity', 'soil_temperature','soil_moisture']]\n",
    "y = df[['next_air_temperature', 'next_relative_humidity', 'next_soil_temperature','next_soil_moisture']]"
   ]
  },
  {
   "cell_type": "code",
   "execution_count": 11,
   "id": "59e4a38d-4db3-497f-a37c-9661073b4d5b",
   "metadata": {},
   "outputs": [],
   "source": [
    "X_train, X_test, y_train, y_test = train_test_split(X, y, test_size=0.2, random_state=107)\n",
    "\n",
    "scaler = StandardScaler()\n",
    "X_train_scaled = scaler.fit_transform(X_train)\n",
    "X_test_scaled = scaler.transform(X_test)"
   ]
  },
  {
   "cell_type": "code",
   "execution_count": 12,
   "id": "8143643e-2f4c-44af-abbd-adf0b9d6d6f8",
   "metadata": {},
   "outputs": [
    {
     "name": "stdout",
     "output_type": "stream",
     "text": [
      "Mean Squared Error: 16.793823998172066\n"
     ]
    }
   ],
   "source": [
    "from sklearn.linear_model import LinearRegression\n",
    "from sklearn.metrics import mean_squared_error\n",
    "\n",
    "# Train the model\n",
    "model = LinearRegression()\n",
    "model.fit(X_train_scaled, y_train)\n",
    "\n",
    "# Predict on the testing set\n",
    "y_pred = model.predict(X_test_scaled)\n",
    "\n",
    "# Evaluate the model\n",
    "mse = mean_squared_error(y_test, y_pred)\n",
    "print(f'Mean Squared Error: {mse}')\n"
   ]
  },
  {
   "cell_type": "code",
   "execution_count": 15,
   "id": "325eb46c-83ee-4244-8f1e-57d012b25ede",
   "metadata": {},
   "outputs": [
    {
     "name": "stdout",
     "output_type": "stream",
     "text": [
      "Predicted next hour values - Air Temperature: 58.25563702349648, Relative Humidity: 955.5794103681296, Soil Tempreture: 57.72728643634079,Soil Moisture: 455.5492628400302\n"
     ]
    },
    {
     "name": "stderr",
     "output_type": "stream",
     "text": [
      "/home/nephalem/.pyenv/versions/3.11.9/envs/weatherenv/lib/python3.11/site-packages/sklearn/base.py:486: UserWarning: X has feature names, but LinearRegression was fitted without feature names\n",
      "  warnings.warn(\n"
     ]
    }
   ],
   "source": [
    "# Example new data point\n",
    "new_data = pd.DataFrame({\n",
    "    'air_temperature': [7.5],\n",
    "    'relative_humidity': [105],\n",
    "    'soil_temperature': [6.2],\n",
    "    'soil_moisture': [40],\n",
    "})\n",
    "\n",
    "\n",
    "# Make a prediction\n",
    "new_predictions = model.predict(new_data)\n",
    "print(f\"Predicted next hour values - Air Temperature: {new_predictions[0][0]}, Relative Humidity: {new_predictions[0][1]}, Soil Tempreture: {new_predictions[0][2]},Soil Moisture: {new_predictions[0][3]}\")"
   ]
  },
  {
   "cell_type": "code",
   "execution_count": 16,
   "id": "1621b00c-7e33-43a8-b16c-5fe312be5e24",
   "metadata": {},
   "outputs": [],
   "source": [
    "def create_sequences(df, n_steps):\n",
    "    X, y = [], []\n",
    "    features = ['air_temperature', 'relative_humidity', 'soil_temperature','soil_moisture']\n",
    "    target = ['next_air_temperature', 'next_relative_humidity', 'next_soil_temperature','next_soil_moisture']\n",
    "    for i in range(len(df) - n_steps):\n",
    "        end_ix = i + n_steps\n",
    "        if end_ix >= len(df):\n",
    "            break\n",
    "        seq_x, seq_y = df[features].iloc[i:end_ix].values, df[target].iloc[end_ix].values\n",
    "        X.append(seq_x)\n",
    "        y.append(seq_y)\n",
    "    return np.array(X), np.array(y)"
   ]
  },
  {
   "cell_type": "code",
   "execution_count": 17,
   "id": "e6775adc-2fb3-429e-88d5-69b170470bc8",
   "metadata": {},
   "outputs": [],
   "source": [
    "# Number of time steps (past records to consider)\n",
    "n_steps = 20\n",
    "X, y = create_sequences(df, n_steps)\n",
    "\n",
    "# Split the dataset into training and testing sets\n",
    "X_train, X_test, y_train, y_test = train_test_split(X, y, test_size=0.2, random_state=42)\n",
    "\n",
    "# Scaling features inside the sequence\n",
    "scaler = StandardScaler()\n",
    "# You need to reshape the data for scaling, then reshape back to 3D for LSTM\n",
    "nsamples, nx, ny = X_train.shape\n",
    "X_train_scaled = scaler.fit_transform(X_train.reshape((nsamples*nx, ny))).reshape(nsamples, nx, ny)\n",
    "\n",
    "nsamples, nx, ny = X_test.shape\n",
    "X_test_scaled = scaler.transform(X_test.reshape((nsamples*nx, ny))).reshape(nsamples, nx, ny)"
   ]
  },
  {
   "cell_type": "code",
   "execution_count": 18,
   "id": "4fb3a48e-dc6a-4048-a561-ea4c65c89f9f",
   "metadata": {},
   "outputs": [
    {
     "name": "stderr",
     "output_type": "stream",
     "text": [
      "2024-05-31 15:44:07.156061: I external/local_xla/xla/stream_executor/cuda/cuda_executor.cc:998] successful NUMA node read from SysFS had negative value (-1), but there must be at least one NUMA node, so returning NUMA node zero. See more at https://github.com/torvalds/linux/blob/v6.0/Documentation/ABI/testing/sysfs-bus-pci#L344-L355\n",
      "2024-05-31 15:44:07.156530: W tensorflow/core/common_runtime/gpu/gpu_device.cc:2251] Cannot dlopen some GPU libraries. Please make sure the missing libraries mentioned above are installed properly if you would like to use GPU. Follow the guide at https://www.tensorflow.org/install/gpu for how to download and setup the required libraries for your platform.\n",
      "Skipping registering GPU devices...\n",
      "/home/nephalem/.pyenv/versions/3.11.9/envs/weatherenv/lib/python3.11/site-packages/keras/src/layers/rnn/rnn.py:204: UserWarning: Do not pass an `input_shape`/`input_dim` argument to a layer. When using Sequential models, prefer using an `Input(shape)` object as the first layer in the model instead.\n",
      "  super().__init__(**kwargs)\n"
     ]
    },
    {
     "data": {
      "text/html": [
       "<pre style=\"white-space:pre;overflow-x:auto;line-height:normal;font-family:Menlo,'DejaVu Sans Mono',consolas,'Courier New',monospace\"><span style=\"font-weight: bold\">Model: \"sequential\"</span>\n",
       "</pre>\n"
      ],
      "text/plain": [
       "\u001b[1mModel: \"sequential\"\u001b[0m\n"
      ]
     },
     "metadata": {},
     "output_type": "display_data"
    },
    {
     "data": {
      "text/html": [
       "<pre style=\"white-space:pre;overflow-x:auto;line-height:normal;font-family:Menlo,'DejaVu Sans Mono',consolas,'Courier New',monospace\">┏━━━━━━━━━━━━━━━━━━━━━━━━━━━━━━━━━┳━━━━━━━━━━━━━━━━━━━━━━━━┳━━━━━━━━━━━━━━━┓\n",
       "┃<span style=\"font-weight: bold\"> Layer (type)                    </span>┃<span style=\"font-weight: bold\"> Output Shape           </span>┃<span style=\"font-weight: bold\">       Param # </span>┃\n",
       "┡━━━━━━━━━━━━━━━━━━━━━━━━━━━━━━━━━╇━━━━━━━━━━━━━━━━━━━━━━━━╇━━━━━━━━━━━━━━━┩\n",
       "│ lstm (<span style=\"color: #0087ff; text-decoration-color: #0087ff\">LSTM</span>)                     │ (<span style=\"color: #00d7ff; text-decoration-color: #00d7ff\">None</span>, <span style=\"color: #00af00; text-decoration-color: #00af00\">20</span>, <span style=\"color: #00af00; text-decoration-color: #00af00\">100</span>)        │        <span style=\"color: #00af00; text-decoration-color: #00af00\">42,000</span> │\n",
       "├─────────────────────────────────┼────────────────────────┼───────────────┤\n",
       "│ dropout (<span style=\"color: #0087ff; text-decoration-color: #0087ff\">Dropout</span>)               │ (<span style=\"color: #00d7ff; text-decoration-color: #00d7ff\">None</span>, <span style=\"color: #00af00; text-decoration-color: #00af00\">20</span>, <span style=\"color: #00af00; text-decoration-color: #00af00\">100</span>)        │             <span style=\"color: #00af00; text-decoration-color: #00af00\">0</span> │\n",
       "├─────────────────────────────────┼────────────────────────┼───────────────┤\n",
       "│ lstm_1 (<span style=\"color: #0087ff; text-decoration-color: #0087ff\">LSTM</span>)                   │ (<span style=\"color: #00d7ff; text-decoration-color: #00d7ff\">None</span>, <span style=\"color: #00af00; text-decoration-color: #00af00\">50</span>)             │        <span style=\"color: #00af00; text-decoration-color: #00af00\">30,200</span> │\n",
       "├─────────────────────────────────┼────────────────────────┼───────────────┤\n",
       "│ dropout_1 (<span style=\"color: #0087ff; text-decoration-color: #0087ff\">Dropout</span>)             │ (<span style=\"color: #00d7ff; text-decoration-color: #00d7ff\">None</span>, <span style=\"color: #00af00; text-decoration-color: #00af00\">50</span>)             │             <span style=\"color: #00af00; text-decoration-color: #00af00\">0</span> │\n",
       "├─────────────────────────────────┼────────────────────────┼───────────────┤\n",
       "│ dense (<span style=\"color: #0087ff; text-decoration-color: #0087ff\">Dense</span>)                   │ (<span style=\"color: #00d7ff; text-decoration-color: #00d7ff\">None</span>, <span style=\"color: #00af00; text-decoration-color: #00af00\">4</span>)              │           <span style=\"color: #00af00; text-decoration-color: #00af00\">204</span> │\n",
       "└─────────────────────────────────┴────────────────────────┴───────────────┘\n",
       "</pre>\n"
      ],
      "text/plain": [
       "┏━━━━━━━━━━━━━━━━━━━━━━━━━━━━━━━━━┳━━━━━━━━━━━━━━━━━━━━━━━━┳━━━━━━━━━━━━━━━┓\n",
       "┃\u001b[1m \u001b[0m\u001b[1mLayer (type)                   \u001b[0m\u001b[1m \u001b[0m┃\u001b[1m \u001b[0m\u001b[1mOutput Shape          \u001b[0m\u001b[1m \u001b[0m┃\u001b[1m \u001b[0m\u001b[1m      Param #\u001b[0m\u001b[1m \u001b[0m┃\n",
       "┡━━━━━━━━━━━━━━━━━━━━━━━━━━━━━━━━━╇━━━━━━━━━━━━━━━━━━━━━━━━╇━━━━━━━━━━━━━━━┩\n",
       "│ lstm (\u001b[38;5;33mLSTM\u001b[0m)                     │ (\u001b[38;5;45mNone\u001b[0m, \u001b[38;5;34m20\u001b[0m, \u001b[38;5;34m100\u001b[0m)        │        \u001b[38;5;34m42,000\u001b[0m │\n",
       "├─────────────────────────────────┼────────────────────────┼───────────────┤\n",
       "│ dropout (\u001b[38;5;33mDropout\u001b[0m)               │ (\u001b[38;5;45mNone\u001b[0m, \u001b[38;5;34m20\u001b[0m, \u001b[38;5;34m100\u001b[0m)        │             \u001b[38;5;34m0\u001b[0m │\n",
       "├─────────────────────────────────┼────────────────────────┼───────────────┤\n",
       "│ lstm_1 (\u001b[38;5;33mLSTM\u001b[0m)                   │ (\u001b[38;5;45mNone\u001b[0m, \u001b[38;5;34m50\u001b[0m)             │        \u001b[38;5;34m30,200\u001b[0m │\n",
       "├─────────────────────────────────┼────────────────────────┼───────────────┤\n",
       "│ dropout_1 (\u001b[38;5;33mDropout\u001b[0m)             │ (\u001b[38;5;45mNone\u001b[0m, \u001b[38;5;34m50\u001b[0m)             │             \u001b[38;5;34m0\u001b[0m │\n",
       "├─────────────────────────────────┼────────────────────────┼───────────────┤\n",
       "│ dense (\u001b[38;5;33mDense\u001b[0m)                   │ (\u001b[38;5;45mNone\u001b[0m, \u001b[38;5;34m4\u001b[0m)              │           \u001b[38;5;34m204\u001b[0m │\n",
       "└─────────────────────────────────┴────────────────────────┴───────────────┘\n"
      ]
     },
     "metadata": {},
     "output_type": "display_data"
    },
    {
     "data": {
      "text/html": [
       "<pre style=\"white-space:pre;overflow-x:auto;line-height:normal;font-family:Menlo,'DejaVu Sans Mono',consolas,'Courier New',monospace\"><span style=\"font-weight: bold\"> Total params: </span><span style=\"color: #00af00; text-decoration-color: #00af00\">72,404</span> (282.83 KB)\n",
       "</pre>\n"
      ],
      "text/plain": [
       "\u001b[1m Total params: \u001b[0m\u001b[38;5;34m72,404\u001b[0m (282.83 KB)\n"
      ]
     },
     "metadata": {},
     "output_type": "display_data"
    },
    {
     "data": {
      "text/html": [
       "<pre style=\"white-space:pre;overflow-x:auto;line-height:normal;font-family:Menlo,'DejaVu Sans Mono',consolas,'Courier New',monospace\"><span style=\"font-weight: bold\"> Trainable params: </span><span style=\"color: #00af00; text-decoration-color: #00af00\">72,404</span> (282.83 KB)\n",
       "</pre>\n"
      ],
      "text/plain": [
       "\u001b[1m Trainable params: \u001b[0m\u001b[38;5;34m72,404\u001b[0m (282.83 KB)\n"
      ]
     },
     "metadata": {},
     "output_type": "display_data"
    },
    {
     "data": {
      "text/html": [
       "<pre style=\"white-space:pre;overflow-x:auto;line-height:normal;font-family:Menlo,'DejaVu Sans Mono',consolas,'Courier New',monospace\"><span style=\"font-weight: bold\"> Non-trainable params: </span><span style=\"color: #00af00; text-decoration-color: #00af00\">0</span> (0.00 B)\n",
       "</pre>\n"
      ],
      "text/plain": [
       "\u001b[1m Non-trainable params: \u001b[0m\u001b[38;5;34m0\u001b[0m (0.00 B)\n"
      ]
     },
     "metadata": {},
     "output_type": "display_data"
    },
    {
     "name": "stdout",
     "output_type": "stream",
     "text": [
      "Epoch 1/75\n",
      "450/450 - 4s - 8ms/step - loss: 1100.2867\n",
      "Epoch 2/75\n",
      "450/450 - 2s - 5ms/step - loss: 143.9221\n",
      "Epoch 3/75\n",
      "450/450 - 2s - 4ms/step - loss: 112.4013\n",
      "Epoch 4/75\n",
      "450/450 - 2s - 4ms/step - loss: 97.4436\n",
      "Epoch 5/75\n",
      "450/450 - 2s - 4ms/step - loss: 94.0113\n",
      "Epoch 6/75\n",
      "450/450 - 2s - 4ms/step - loss: 86.4342\n",
      "Epoch 7/75\n",
      "450/450 - 2s - 4ms/step - loss: 77.6648\n",
      "Epoch 8/75\n",
      "450/450 - 2s - 4ms/step - loss: 80.4894\n",
      "Epoch 9/75\n",
      "450/450 - 2s - 4ms/step - loss: 76.2488\n",
      "Epoch 10/75\n",
      "450/450 - 2s - 4ms/step - loss: 78.9286\n",
      "Epoch 11/75\n",
      "450/450 - 2s - 4ms/step - loss: 69.5603\n",
      "Epoch 12/75\n",
      "450/450 - 2s - 4ms/step - loss: 69.9456\n",
      "Epoch 13/75\n",
      "450/450 - 2s - 4ms/step - loss: 68.3452\n",
      "Epoch 14/75\n",
      "450/450 - 2s - 4ms/step - loss: 71.8513\n",
      "Epoch 15/75\n",
      "450/450 - 2s - 4ms/step - loss: 65.5195\n",
      "Epoch 16/75\n",
      "450/450 - 2s - 4ms/step - loss: 67.1468\n",
      "Epoch 17/75\n",
      "450/450 - 2s - 4ms/step - loss: 60.1796\n",
      "Epoch 18/75\n",
      "450/450 - 2s - 4ms/step - loss: 63.0199\n",
      "Epoch 19/75\n",
      "450/450 - 2s - 4ms/step - loss: 65.9994\n",
      "Epoch 20/75\n",
      "450/450 - 2s - 5ms/step - loss: 62.5687\n",
      "Epoch 21/75\n",
      "450/450 - 2s - 4ms/step - loss: 57.1311\n",
      "Epoch 22/75\n",
      "450/450 - 2s - 4ms/step - loss: 66.2852\n",
      "Epoch 23/75\n",
      "450/450 - 2s - 4ms/step - loss: 56.1944\n",
      "Epoch 24/75\n",
      "450/450 - 2s - 4ms/step - loss: 53.9237\n",
      "Epoch 25/75\n",
      "450/450 - 2s - 4ms/step - loss: 55.6023\n",
      "Epoch 26/75\n",
      "450/450 - 2s - 4ms/step - loss: 58.3145\n",
      "Epoch 27/75\n",
      "450/450 - 2s - 4ms/step - loss: 57.9714\n",
      "Epoch 28/75\n",
      "450/450 - 2s - 4ms/step - loss: 57.0692\n",
      "Epoch 29/75\n",
      "450/450 - 2s - 4ms/step - loss: 48.7359\n",
      "Epoch 30/75\n",
      "450/450 - 2s - 4ms/step - loss: 51.6367\n",
      "Epoch 31/75\n",
      "450/450 - 2s - 4ms/step - loss: 51.0711\n",
      "Epoch 32/75\n",
      "450/450 - 2s - 4ms/step - loss: 52.5615\n",
      "Epoch 33/75\n",
      "450/450 - 2s - 4ms/step - loss: 49.5669\n",
      "Epoch 34/75\n",
      "450/450 - 2s - 4ms/step - loss: 49.3127\n",
      "Epoch 35/75\n",
      "450/450 - 2s - 4ms/step - loss: 48.5462\n",
      "Epoch 36/75\n",
      "450/450 - 2s - 5ms/step - loss: 48.5305\n",
      "Epoch 37/75\n",
      "450/450 - 2s - 4ms/step - loss: 48.5910\n",
      "Epoch 38/75\n",
      "450/450 - 2s - 4ms/step - loss: 50.7283\n",
      "Epoch 39/75\n",
      "450/450 - 2s - 4ms/step - loss: 45.0568\n",
      "Epoch 40/75\n",
      "450/450 - 2s - 4ms/step - loss: 44.6968\n",
      "Epoch 41/75\n",
      "450/450 - 2s - 4ms/step - loss: 56.2840\n",
      "Epoch 42/75\n",
      "450/450 - 2s - 4ms/step - loss: 47.9409\n",
      "Epoch 43/75\n",
      "450/450 - 2s - 4ms/step - loss: 46.3612\n",
      "Epoch 44/75\n",
      "450/450 - 6s - 14ms/step - loss: 45.3061\n",
      "Epoch 45/75\n",
      "450/450 - 8s - 17ms/step - loss: 44.9426\n",
      "Epoch 46/75\n",
      "450/450 - 7s - 15ms/step - loss: 41.2211\n",
      "Epoch 47/75\n",
      "450/450 - 2s - 5ms/step - loss: 44.5932\n",
      "Epoch 48/75\n",
      "450/450 - 2s - 4ms/step - loss: 43.7735\n",
      "Epoch 49/75\n",
      "450/450 - 2s - 4ms/step - loss: 41.6032\n",
      "Epoch 50/75\n",
      "450/450 - 2s - 4ms/step - loss: 43.1195\n",
      "Epoch 51/75\n",
      "450/450 - 2s - 4ms/step - loss: 43.6905\n",
      "Epoch 52/75\n",
      "450/450 - 2s - 4ms/step - loss: 38.7933\n",
      "Epoch 53/75\n",
      "450/450 - 2s - 5ms/step - loss: 40.1061\n",
      "Epoch 54/75\n",
      "450/450 - 2s - 4ms/step - loss: 44.8665\n",
      "Epoch 55/75\n",
      "450/450 - 2s - 4ms/step - loss: 38.5753\n",
      "Epoch 56/75\n",
      "450/450 - 2s - 4ms/step - loss: 41.1195\n",
      "Epoch 57/75\n",
      "450/450 - 2s - 4ms/step - loss: 41.0219\n",
      "Epoch 58/75\n",
      "450/450 - 2s - 4ms/step - loss: 39.3188\n",
      "Epoch 59/75\n",
      "450/450 - 2s - 4ms/step - loss: 40.3317\n",
      "Epoch 60/75\n",
      "450/450 - 2s - 4ms/step - loss: 38.5197\n",
      "Epoch 61/75\n",
      "450/450 - 2s - 4ms/step - loss: 38.7488\n",
      "Epoch 62/75\n",
      "450/450 - 2s - 5ms/step - loss: 37.9487\n",
      "Epoch 63/75\n",
      "450/450 - 2s - 4ms/step - loss: 40.5699\n",
      "Epoch 64/75\n",
      "450/450 - 2s - 4ms/step - loss: 38.4264\n",
      "Epoch 65/75\n",
      "450/450 - 2s - 4ms/step - loss: 38.6603\n",
      "Epoch 66/75\n",
      "450/450 - 2s - 4ms/step - loss: 38.8110\n",
      "Epoch 67/75\n",
      "450/450 - 2s - 4ms/step - loss: 37.6029\n",
      "Epoch 68/75\n",
      "450/450 - 2s - 4ms/step - loss: 39.0052\n",
      "Epoch 69/75\n",
      "450/450 - 2s - 4ms/step - loss: 37.9475\n",
      "Epoch 70/75\n",
      "450/450 - 2s - 4ms/step - loss: 35.6371\n",
      "Epoch 71/75\n",
      "450/450 - 2s - 4ms/step - loss: 38.0552\n",
      "Epoch 72/75\n",
      "450/450 - 2s - 4ms/step - loss: 44.7122\n",
      "Epoch 73/75\n",
      "450/450 - 2s - 4ms/step - loss: 35.6023\n",
      "Epoch 74/75\n",
      "450/450 - 2s - 4ms/step - loss: 37.2370\n",
      "Epoch 75/75\n",
      "450/450 - 2s - 4ms/step - loss: 36.3835\n"
     ]
    },
    {
     "data": {
      "text/plain": [
       "<keras.src.callbacks.history.History at 0x738d7d9faed0>"
      ]
     },
     "execution_count": 18,
     "metadata": {},
     "output_type": "execute_result"
    }
   ],
   "source": [
    "# Define the model\n",
    "model = Sequential()\n",
    "\n",
    "# Add the first LSTM layer with dropout\n",
    "model.add(LSTM(100, activation='relu', return_sequences=True, input_shape=(n_steps, X_train_scaled.shape[2])))\n",
    "model.add(Dropout(0.2))  # Adding dropout with 20% probability\n",
    "\n",
    "# Add the second LSTM layer with dropout\n",
    "model.add(LSTM(50, activation='relu'))\n",
    "model.add(Dropout(0.2))  # Adding dropout with 20% probability\n",
    "\n",
    "# Add the output layer\n",
    "model.add(Dense(4))\n",
    "\n",
    "# Compile the model\n",
    "model.compile(optimizer='adam', loss='mean_squared_error')\n",
    "\n",
    "# Print the model summary\n",
    "model.summary()\n",
    "\n",
    "# Train the model\n",
    "model.fit(X_train_scaled, y_train, epochs=75, batch_size=2, verbose=2)"
   ]
  },
  {
   "cell_type": "code",
   "execution_count": 19,
   "id": "50a9c32a-deb3-48d8-bed2-766a6a98817d",
   "metadata": {},
   "outputs": [
    {
     "name": "stdout",
     "output_type": "stream",
     "text": [
      "1144\n"
     ]
    },
    {
     "data": {
      "text/html": [
       "<div>\n",
       "<style scoped>\n",
       "    .dataframe tbody tr th:only-of-type {\n",
       "        vertical-align: middle;\n",
       "    }\n",
       "\n",
       "    .dataframe tbody tr th {\n",
       "        vertical-align: top;\n",
       "    }\n",
       "\n",
       "    .dataframe thead th {\n",
       "        text-align: right;\n",
       "    }\n",
       "</style>\n",
       "<table border=\"1\" class=\"dataframe\">\n",
       "  <thead>\n",
       "    <tr style=\"text-align: right;\">\n",
       "      <th></th>\n",
       "      <th>timestamp</th>\n",
       "      <th>air_temperature</th>\n",
       "      <th>relative_humidity</th>\n",
       "      <th>soil_temperature</th>\n",
       "      <th>soil_moisture</th>\n",
       "      <th>next_air_temperature</th>\n",
       "      <th>next_relative_humidity</th>\n",
       "      <th>next_soil_temperature</th>\n",
       "      <th>next_soil_moisture</th>\n",
       "    </tr>\n",
       "  </thead>\n",
       "  <tbody>\n",
       "    <tr>\n",
       "      <th>1191</th>\n",
       "      <td>2024-05-10 10:00:00</td>\n",
       "      <td>14.070833</td>\n",
       "      <td>69.750000</td>\n",
       "      <td>16.162500</td>\n",
       "      <td>32.895833</td>\n",
       "      <td>14.625000</td>\n",
       "      <td>70.750000</td>\n",
       "      <td>16.091667</td>\n",
       "      <td>32.737500</td>\n",
       "    </tr>\n",
       "    <tr>\n",
       "      <th>1192</th>\n",
       "      <td>2024-05-11 10:00:00</td>\n",
       "      <td>14.625000</td>\n",
       "      <td>70.750000</td>\n",
       "      <td>16.091667</td>\n",
       "      <td>32.737500</td>\n",
       "      <td>15.133333</td>\n",
       "      <td>70.708333</td>\n",
       "      <td>16.683333</td>\n",
       "      <td>32.720833</td>\n",
       "    </tr>\n",
       "    <tr>\n",
       "      <th>1193</th>\n",
       "      <td>2024-05-12 10:00:00</td>\n",
       "      <td>15.133333</td>\n",
       "      <td>70.708333</td>\n",
       "      <td>16.683333</td>\n",
       "      <td>32.720833</td>\n",
       "      <td>13.554167</td>\n",
       "      <td>59.041667</td>\n",
       "      <td>16.158333</td>\n",
       "      <td>32.366667</td>\n",
       "    </tr>\n",
       "    <tr>\n",
       "      <th>1194</th>\n",
       "      <td>2024-05-13 10:00:00</td>\n",
       "      <td>13.554167</td>\n",
       "      <td>59.041667</td>\n",
       "      <td>16.158333</td>\n",
       "      <td>32.366667</td>\n",
       "      <td>14.725000</td>\n",
       "      <td>57.250000</td>\n",
       "      <td>16.079167</td>\n",
       "      <td>31.991667</td>\n",
       "    </tr>\n",
       "    <tr>\n",
       "      <th>1195</th>\n",
       "      <td>2024-05-14 10:00:00</td>\n",
       "      <td>14.725000</td>\n",
       "      <td>57.250000</td>\n",
       "      <td>16.079167</td>\n",
       "      <td>31.991667</td>\n",
       "      <td>14.800000</td>\n",
       "      <td>64.458333</td>\n",
       "      <td>16.379167</td>\n",
       "      <td>31.725000</td>\n",
       "    </tr>\n",
       "  </tbody>\n",
       "</table>\n",
       "</div>"
      ],
      "text/plain": [
       "               timestamp  air_temperature  relative_humidity  \\\n",
       "1191 2024-05-10 10:00:00        14.070833          69.750000   \n",
       "1192 2024-05-11 10:00:00        14.625000          70.750000   \n",
       "1193 2024-05-12 10:00:00        15.133333          70.708333   \n",
       "1194 2024-05-13 10:00:00        13.554167          59.041667   \n",
       "1195 2024-05-14 10:00:00        14.725000          57.250000   \n",
       "\n",
       "      soil_temperature  soil_moisture  next_air_temperature  \\\n",
       "1191         16.162500      32.895833             14.625000   \n",
       "1192         16.091667      32.737500             15.133333   \n",
       "1193         16.683333      32.720833             13.554167   \n",
       "1194         16.158333      32.366667             14.725000   \n",
       "1195         16.079167      31.991667             14.800000   \n",
       "\n",
       "      next_relative_humidity  next_soil_temperature  next_soil_moisture  \n",
       "1191               70.750000              16.091667           32.737500  \n",
       "1192               70.708333              16.683333           32.720833  \n",
       "1193               59.041667              16.158333           32.366667  \n",
       "1194               57.250000              16.079167           31.991667  \n",
       "1195               64.458333              16.379167           31.725000  "
      ]
     },
     "execution_count": 19,
     "metadata": {},
     "output_type": "execute_result"
    }
   ],
   "source": [
    "print(len(df))\n",
    "new_data = df.tail(20)\n",
    "new_data.head()"
   ]
  },
  {
   "cell_type": "code",
   "execution_count": 20,
   "id": "f59dd18b-64ee-411a-b40c-a167d7387532",
   "metadata": {},
   "outputs": [
    {
     "name": "stdout",
     "output_type": "stream",
     "text": [
      "Numeric data shape: (20, 4)\n",
      "\u001b[1m1/1\u001b[0m \u001b[32m━━━━━━━━━━━━━━━━━━━━\u001b[0m\u001b[37m\u001b[0m \u001b[1m0s\u001b[0m 151ms/step\n",
      "Predicted values - Air Temperature: 17.082630157470703, Relative Humidity: 73.97657012939453, Soil Tempreture: 17.867855072021484,Soil Moisture: 36.91193771362305\n"
     ]
    },
    {
     "name": "stderr",
     "output_type": "stream",
     "text": [
      "/home/nephalem/.pyenv/versions/3.11.9/envs/weatherenv/lib/python3.11/site-packages/sklearn/base.py:486: UserWarning: X has feature names, but StandardScaler was fitted without feature names\n",
      "  warnings.warn(\n"
     ]
    }
   ],
   "source": [
    "original_features = ['air_temperature', 'relative_humidity', 'soil_temperature','soil_moisture']\n",
    "numeric_data = df[original_features].tail(20)\n",
    "print(\"Numeric data shape:\", numeric_data.shape)\n",
    "\n",
    "new_data_scaled = scaler.transform(numeric_data)\n",
    "new_data_scaled = new_data_scaled.reshape(1, 20, len(original_features))\n",
    "\n",
    "new_predictions = model.predict(new_data_scaled)\n",
    "\n",
    "print(f\"Predicted values - Air Temperature: {new_predictions[0][0]}, Relative Humidity: {new_predictions[0][1]}, Soil Tempreture: {new_predictions[0][2]},Soil Moisture: {new_predictions[0][3]}\")"
   ]
  },
  {
   "cell_type": "code",
   "execution_count": 22,
   "id": "27a206b7-1a37-454d-8114-d9101ed81daa",
   "metadata": {},
   "outputs": [
    {
     "name": "stdout",
     "output_type": "stream",
     "text": [
      "Requirement already satisfied: numpy in /home/nephalem/.pyenv/versions/3.11.9/envs/weatherenv/lib/python3.11/site-packages (1.26.4)\n",
      "Note: you may need to restart the kernel to use updated packages.\n"
     ]
    }
   ],
   "source": [
    "pip install numpy --upgrade"
   ]
  },
  {
   "cell_type": "code",
   "execution_count": 23,
   "id": "de2e2dba-9bef-4fd3-8510-6a2b79006b61",
   "metadata": {},
   "outputs": [
    {
     "name": "stdout",
     "output_type": "stream",
     "text": [
      "\u001b[31mERROR: Could not find a version that satisfies the requirement tesnorflow (from versions: none)\u001b[0m\u001b[31m\n",
      "\u001b[0m\u001b[31mERROR: No matching distribution found for tesnorflow\u001b[0m\u001b[31m\n",
      "\u001b[0mNote: you may need to restart the kernel to use updated packages.\n"
     ]
    }
   ],
   "source": [
    "pip install tesnorflow --upgrade"
   ]
  },
  {
   "cell_type": "code",
   "execution_count": 24,
   "id": "b6abc773-c1eb-4f5b-829c-34fe94f334f4",
   "metadata": {},
   "outputs": [
    {
     "name": "stderr",
     "output_type": "stream",
     "text": [
      "WARNING:absl:You are saving your model as an HDF5 file via `model.save()` or `keras.saving.save_model(model)`. This file format is considered legacy. We recommend using instead the native Keras format, e.g. `model.save('my_model.keras')` or `keras.saving.save_model(model, 'my_model.keras')`. \n"
     ]
    }
   ],
   "source": [
    "model.save('lstm_predictor.h5')  # Saves the model in HDF5 format"
   ]
  },
  {
   "cell_type": "code",
   "execution_count": 25,
   "id": "73fdf155-3861-4195-a544-3aae901ec8b5",
   "metadata": {},
   "outputs": [],
   "source": [
    "model.save('lstm_predictor.keras')"
   ]
  },
  {
   "cell_type": "code",
   "execution_count": null,
   "id": "28beef90-4527-4872-a707-fec4062fbdcd",
   "metadata": {},
   "outputs": [],
   "source": []
  }
 ],
 "metadata": {
  "kernelspec": {
   "display_name": "Python 3 (ipykernel)",
   "language": "python",
   "name": "python3"
  },
  "language_info": {
   "codemirror_mode": {
    "name": "ipython",
    "version": 3
   },
   "file_extension": ".py",
   "mimetype": "text/x-python",
   "name": "python",
   "nbconvert_exporter": "python",
   "pygments_lexer": "ipython3",
   "version": "3.11.9"
  }
 },
 "nbformat": 4,
 "nbformat_minor": 5
}
